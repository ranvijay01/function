{
  "nbformat": 4,
  "nbformat_minor": 0,
  "metadata": {
    "colab": {
      "provenance": []
    },
    "kernelspec": {
      "name": "python3",
      "display_name": "Python 3"
    },
    "language_info": {
      "name": "python"
    }
  },
  "cells": [
    {
      "cell_type": "markdown",
      "source": [
        "### **...... THEORETICAL QUESTION ........**"
      ],
      "metadata": {
        "id": "lfTdGcsZvnSs"
      }
    },
    {
      "cell_type": "markdown",
      "source": [
        "1. What is the difference between a function and a method in Python?\n",
        "*    A function is a set of instructions to perform a specific task, and a method is a set of instructions that are associated with an object.\n",
        "*    A function doesnOt need any object and is independent, while the method is a function, which is linked with any object.\n",
        "*    We can directly call the function with its name, while the method is called by the object's name.\n",
        "*    Function is used to pass or return the data, while the method operates the data in a class.\n",
        "\n",
        "\n",
        "\n",
        "\n",
        "\n"
      ],
      "metadata": {
        "id": "UuXUGxK4v_xs"
      }
    },
    {
      "cell_type": "code",
      "source": [
        "#example of fuction\n",
        "def greet(name):\n",
        "    return \"Hello, \" + name\n",
        "print(greet(\"Ranvijay\"))\n"
      ],
      "metadata": {
        "colab": {
          "base_uri": "https://localhost:8080/"
        },
        "id": "RCnRgHNa3ykG",
        "outputId": "22c37763-4c48-40d9-8116-96e1b133c4db"
      },
      "execution_count": null,
      "outputs": [
        {
          "output_type": "stream",
          "name": "stdout",
          "text": [
            "Hello, Ranvijay\n"
          ]
        }
      ]
    },
    {
      "cell_type": "code",
      "source": [
        "#example of method\n",
        "class greet :\n",
        "\tdef method_greet (self):\n",
        "\t\tprint(\"I am in method_greet of greet class. \")\n",
        "\n",
        "class_ref = greet()\n",
        "class_ref.method_greet()\n",
        "\n"
      ],
      "metadata": {
        "colab": {
          "base_uri": "https://localhost:8080/"
        },
        "id": "qMHU3Woi5Ymr",
        "outputId": "20eee87c-6d78-4dc9-a70f-62976b8074c7"
      },
      "execution_count": null,
      "outputs": [
        {
          "output_type": "stream",
          "name": "stdout",
          "text": [
            "I am in method_greet of greet class. \n"
          ]
        }
      ]
    },
    {
      "cell_type": "markdown",
      "source": [
        "2. Explain the concept of function arguments and parameters in Python.\n",
        "*    Function arguments are values that we provide to a function when you call it. These arguments can be\n",
        "used by the function to perform specific tasks.\n",
        "*    A parameter is the variable defined within the parantheses when we declare a function"
      ],
      "metadata": {
        "id": "MDjaNQ7qv-zM"
      }
    },
    {
      "cell_type": "code",
      "source": [
        "def sum_(x,y):\n",
        "\n",
        "    return x+y\n",
        "\n",
        "\n",
        "#  the function with arguments\n",
        "\n",
        "sum_(2,3)"
      ],
      "metadata": {
        "colab": {
          "base_uri": "https://localhost:8080/"
        },
        "id": "XlqNgKnF8XtC",
        "outputId": "6dd0046d-ae86-4a49-c8b1-419403cd7320"
      },
      "execution_count": null,
      "outputs": [
        {
          "output_type": "execute_result",
          "data": {
            "text/plain": [
              "5"
            ]
          },
          "metadata": {},
          "execution_count": 21
        }
      ]
    },
    {
      "cell_type": "markdown",
      "source": [
        "*    In the above example x and y inside bracket after function name is called parameter and 2 and 3 inside bracket is called argument."
      ],
      "metadata": {
        "id": "zSAqAxCivMaE"
      }
    },
    {
      "cell_type": "markdown",
      "source": [
        "3. What are the different ways to define and call a function in Python?\n",
        "*    **FUNCTION* : Functions are defined using the def keyword, followed by the function name, parameters and a colon."
      ],
      "metadata": {
        "id": "iRBjEiT1-_kO"
      }
    },
    {
      "cell_type": "code",
      "source": [
        "def greet(name):\n",
        "    return \"Hello,\" + name\n",
        "# CALL\n",
        "print(greet(\"Ranvijay\"))\n"
      ],
      "metadata": {
        "colab": {
          "base_uri": "https://localhost:8080/"
        },
        "id": "UNcvD3reGAv7",
        "outputId": "915509b5-f70f-4b5a-dc5e-de49584e1a95"
      },
      "execution_count": null,
      "outputs": [
        {
          "output_type": "stream",
          "name": "stdout",
          "text": [
            "Hello,Ranvijay\n"
          ]
        }
      ]
    },
    {
      "cell_type": "markdown",
      "source": [
        "*     **LAMBDA FUNCTION**: Lambda functions are single-expression functions defined using the lambda keyword."
      ],
      "metadata": {
        "id": "_IttDo0HGfoi"
      }
    },
    {
      "cell_type": "code",
      "source": [
        "square = lambda x: x ** 2\n",
        "#CALL\n",
        "print(square(5))\n"
      ],
      "metadata": {
        "colab": {
          "base_uri": "https://localhost:8080/"
        },
        "id": "jwI482kVG0Ov",
        "outputId": "c5d6aca6-4c93-46cb-a237-ce572698d11f"
      },
      "execution_count": null,
      "outputs": [
        {
          "output_type": "stream",
          "name": "stdout",
          "text": [
            "25\n"
          ]
        }
      ]
    },
    {
      "cell_type": "markdown",
      "source": [
        "*    ** Recursive Functions**: A function that calls itself.\n"
      ],
      "metadata": {
        "id": "27vaH95yHB5_"
      }
    },
    {
      "cell_type": "code",
      "source": [
        "def factorial(n):\n",
        "    if n == 1:\n",
        "        return 1\n",
        "    return n * factorial(n - 1)\n",
        "print(factorial(4))"
      ],
      "metadata": {
        "colab": {
          "base_uri": "https://localhost:8080/"
        },
        "id": "pftXyQKNHcoQ",
        "outputId": "352f0eaa-57b6-492c-baf9-520f5e407934"
      },
      "execution_count": null,
      "outputs": [
        {
          "output_type": "stream",
          "name": "stdout",
          "text": [
            "24\n"
          ]
        }
      ]
    },
    {
      "cell_type": "markdown",
      "source": [
        "*    ** Keyword Arguments**:\n",
        "Functions can be called using named arguments."
      ],
      "metadata": {
        "id": "x9pPE7gNIB-W"
      }
    },
    {
      "cell_type": "code",
      "source": [
        "def describe_pet(animal, name):\n",
        "    return name + \" is a \" + animal\n",
        "#call\n",
        "print(describe_pet(name=\"Rocky\", animal=\"dog\"))\n"
      ],
      "metadata": {
        "colab": {
          "base_uri": "https://localhost:8080/"
        },
        "id": "rgCpSVw4ILi4",
        "outputId": "7ff58d9c-0a2c-45db-b772-439c0ca1af0a"
      },
      "execution_count": null,
      "outputs": [
        {
          "output_type": "stream",
          "name": "stdout",
          "text": [
            "Rocky is a dog\n"
          ]
        }
      ]
    },
    {
      "cell_type": "markdown",
      "source": [
        "*   ** Variable-Length Arguments**:\n",
        "## *     *args:-  for variable-length positional arguments.\n",
        "#    **kwargs:-   for variable-length keyword arguments.\n"
      ],
      "metadata": {
        "id": "Pp9aXMnLIsIH"
      }
    },
    {
      "cell_type": "code",
      "source": [
        "def print_args(*args, **kwargs):\n",
        "    print(\"Positional:\", args)\n",
        "    print(\"Keyword:\", kwargs)\n",
        "# CALL\n",
        "print_args(1, 2, 3, a=\"apple\", b=\"banana\")\n"
      ],
      "metadata": {
        "colab": {
          "base_uri": "https://localhost:8080/"
        },
        "id": "tUXBh94mvf5Q",
        "outputId": "20a22f6c-7426-4958-b9d5-0375e428cf80"
      },
      "execution_count": null,
      "outputs": [
        {
          "output_type": "stream",
          "name": "stdout",
          "text": [
            "Positional: (1, 2, 3)\n",
            "Keyword: {'a': 'apple', 'b': 'banana'}\n"
          ]
        }
      ]
    },
    {
      "cell_type": "markdown",
      "source": [
        "4. What is the purpose of the `return` statement in a Python function?\n",
        "*     The return statement in a Python function is used to exit the function and send a value back to the caller."
      ],
      "metadata": {
        "id": "Tqhh8OdrJmXp"
      }
    },
    {
      "cell_type": "code",
      "source": [
        "def sum(a, b):\n",
        "   return a+b\n",
        "print(sum(2, 3))"
      ],
      "metadata": {
        "colab": {
          "base_uri": "https://localhost:8080/"
        },
        "id": "qAiJDs32K1K6",
        "outputId": "c6fcd22a-a249-4bb6-919c-61411a3c6ea6"
      },
      "execution_count": null,
      "outputs": [
        {
          "output_type": "stream",
          "name": "stdout",
          "text": [
            "5\n"
          ]
        }
      ]
    },
    {
      "cell_type": "markdown",
      "source": [
        "5. What are iterators in Python and how do they differ from iterables?\n",
        "*    Iterator in python is an object that is used to iterate over iterable objects like lists, tuples, dicts, and sets. The\n",
        "iterator object is initialized using the `iter()` method. It uses the `next()` method for iteration."
      ],
      "metadata": {
        "id": "FQNGahAOJmao"
      }
    },
    {
      "cell_type": "code",
      "source": [
        "# Creating an iterator from a list\n",
        "my_list = [1, 2, 3]\n",
        "my_iterator = iter(my_list)\n",
        "\n",
        "# Accessing elements using next()\n",
        "print(next(my_iterator))\n"
      ],
      "metadata": {
        "colab": {
          "base_uri": "https://localhost:8080/"
        },
        "id": "Wra6fsb0NOnX",
        "outputId": "9dfd1f00-8907-4ffa-e7b5-64096c0746d9"
      },
      "execution_count": null,
      "outputs": [
        {
          "output_type": "stream",
          "name": "stdout",
          "text": [
            "1\n"
          ]
        }
      ]
    },
    {
      "cell_type": "code",
      "source": [
        "print(next(my_iterator))\n"
      ],
      "metadata": {
        "colab": {
          "base_uri": "https://localhost:8080/"
        },
        "id": "g8hpFMciNiaI",
        "outputId": "746c7c18-efd5-43f8-986d-7adb1e5d49be"
      },
      "execution_count": null,
      "outputs": [
        {
          "output_type": "stream",
          "name": "stdout",
          "text": [
            "2\n"
          ]
        }
      ]
    },
    {
      "cell_type": "code",
      "source": [
        "print(next(my_iterator))\n"
      ],
      "metadata": {
        "colab": {
          "base_uri": "https://localhost:8080/"
        },
        "id": "zfxBtlUVNmqv",
        "outputId": "f63f1e01-45bc-4754-ed3f-24771e9b25b0"
      },
      "execution_count": null,
      "outputs": [
        {
          "output_type": "stream",
          "name": "stdout",
          "text": [
            "3\n"
          ]
        }
      ]
    },
    {
      "cell_type": "markdown",
      "source": [
        "6. Explain the concept of generators in Python and how they are defined.\n",
        "*    Generator functions in Python are a way to create iterators in a more concise and memory-efficient manner.\n",
        "*    These functions allow you to iterate over a potentially large sequence of data without loading the entire\n",
        "sequence into memory.\n",
        "*   The main difference between a regular function and a generator function is that the latter uses the yield\n",
        "keyword to produce a series of values over time, one at a time, rather than returning a single result."
      ],
      "metadata": {
        "id": "THG0hCxWJmmY"
      }
    },
    {
      "cell_type": "code",
      "source": [
        "#fibonacci series>sum of last two number 0, 1, 1, 2, 3,5, 8...\n",
        "\n",
        "\n",
        "def fib(n):\n",
        "    a = 0\n",
        "    b = 1\n",
        "    for i in range(n): #if n=5, 0, 1, 2, 3, 4\n",
        "        yield a\n",
        "        a, b = b, a+b\n",
        "\n",
        "f = fib(10)"
      ],
      "metadata": {
        "id": "VfhywrqkOtN3"
      },
      "execution_count": null,
      "outputs": []
    },
    {
      "cell_type": "code",
      "source": [
        "next(f)"
      ],
      "metadata": {
        "colab": {
          "base_uri": "https://localhost:8080/"
        },
        "id": "MmJnPRhlvdjA",
        "outputId": "5573f794-cec3-4c84-a2e2-1e94b775b6cc"
      },
      "execution_count": null,
      "outputs": [
        {
          "output_type": "execute_result",
          "data": {
            "text/plain": [
              "0"
            ]
          },
          "metadata": {},
          "execution_count": 40
        }
      ]
    },
    {
      "cell_type": "code",
      "source": [
        "next(f)"
      ],
      "metadata": {
        "colab": {
          "base_uri": "https://localhost:8080/"
        },
        "id": "DMiSGdYSPjyl",
        "outputId": "346b454d-77cb-48c2-ec05-92bca01e5cde"
      },
      "execution_count": null,
      "outputs": [
        {
          "output_type": "execute_result",
          "data": {
            "text/plain": [
              "1"
            ]
          },
          "metadata": {},
          "execution_count": 41
        }
      ]
    },
    {
      "cell_type": "code",
      "source": [
        "next(f)"
      ],
      "metadata": {
        "colab": {
          "base_uri": "https://localhost:8080/"
        },
        "id": "-p84UwpIPlW-",
        "outputId": "3282fd90-636e-4400-edf5-61aecba5bc7d"
      },
      "execution_count": null,
      "outputs": [
        {
          "output_type": "execute_result",
          "data": {
            "text/plain": [
              "1"
            ]
          },
          "metadata": {},
          "execution_count": 42
        }
      ]
    },
    {
      "cell_type": "code",
      "source": [
        "next(f)"
      ],
      "metadata": {
        "colab": {
          "base_uri": "https://localhost:8080/"
        },
        "id": "qaueh2HdPnD2",
        "outputId": "eb0d73cf-71cd-4cb9-941b-4d5564d11e3a"
      },
      "execution_count": null,
      "outputs": [
        {
          "output_type": "execute_result",
          "data": {
            "text/plain": [
              "2"
            ]
          },
          "metadata": {},
          "execution_count": 43
        }
      ]
    },
    {
      "cell_type": "code",
      "source": [
        "next(f)"
      ],
      "metadata": {
        "colab": {
          "base_uri": "https://localhost:8080/"
        },
        "id": "fOht2IjyPpKt",
        "outputId": "b47dcdc5-1b8b-4b58-c26e-41411f9ec59b"
      },
      "execution_count": null,
      "outputs": [
        {
          "output_type": "execute_result",
          "data": {
            "text/plain": [
              "3"
            ]
          },
          "metadata": {},
          "execution_count": 44
        }
      ]
    },
    {
      "cell_type": "code",
      "source": [
        "next(f)"
      ],
      "metadata": {
        "colab": {
          "base_uri": "https://localhost:8080/"
        },
        "id": "8tqDf3MkPtQQ",
        "outputId": "7c9f98b0-83f3-48aa-ebca-32a79d41dd3e"
      },
      "execution_count": null,
      "outputs": [
        {
          "output_type": "execute_result",
          "data": {
            "text/plain": [
              "5"
            ]
          },
          "metadata": {},
          "execution_count": 45
        }
      ]
    },
    {
      "cell_type": "code",
      "source": [
        "next(f)"
      ],
      "metadata": {
        "colab": {
          "base_uri": "https://localhost:8080/"
        },
        "id": "VtZz3kyIPv4j",
        "outputId": "01e9eadd-514e-46f8-844a-6c175ce9b131"
      },
      "execution_count": null,
      "outputs": [
        {
          "output_type": "execute_result",
          "data": {
            "text/plain": [
              "8"
            ]
          },
          "metadata": {},
          "execution_count": 46
        }
      ]
    },
    {
      "cell_type": "code",
      "source": [
        "next(f)"
      ],
      "metadata": {
        "colab": {
          "base_uri": "https://localhost:8080/"
        },
        "id": "x1BC5UTfPy5v",
        "outputId": "87b4cb93-196f-4f80-f737-d36224a9f162"
      },
      "execution_count": null,
      "outputs": [
        {
          "output_type": "execute_result",
          "data": {
            "text/plain": [
              "13"
            ]
          },
          "metadata": {},
          "execution_count": 47
        }
      ]
    },
    {
      "cell_type": "code",
      "source": [
        "next(f)"
      ],
      "metadata": {
        "colab": {
          "base_uri": "https://localhost:8080/"
        },
        "id": "QnhaTO1IP0iZ",
        "outputId": "629f1883-7b50-4e7d-8fd0-5a9f701855f0"
      },
      "execution_count": null,
      "outputs": [
        {
          "output_type": "execute_result",
          "data": {
            "text/plain": [
              "21"
            ]
          },
          "metadata": {},
          "execution_count": 48
        }
      ]
    },
    {
      "cell_type": "code",
      "source": [
        "next(f)"
      ],
      "metadata": {
        "colab": {
          "base_uri": "https://localhost:8080/"
        },
        "id": "oQtWA6zJP2M3",
        "outputId": "30e40a39-49a2-4954-c6fa-89ace78d55ba"
      },
      "execution_count": null,
      "outputs": [
        {
          "output_type": "execute_result",
          "data": {
            "text/plain": [
              "34"
            ]
          },
          "metadata": {},
          "execution_count": 49
        }
      ]
    },
    {
      "cell_type": "markdown",
      "source": [
        "7. What are the advantages of using generators over regular functions?\n",
        "*      Generators have several advantages over regular functions.\n",
        "*      Memory Efficiency\n",
        "*       Improved Performance\n",
        "*   **   Simpler Code :**  Generators allow for concise and readable code when compared to manually implementing an iterator class with iter and next  methods.\n",
        "*     Reduced Complexity in Large Iterations"
      ],
      "metadata": {
        "id": "1B49CstWP6V6"
      }
    },
    {
      "cell_type": "code",
      "source": [
        "def numbers():\n",
        "    for i in range(10):\n",
        "        yield i\n",
        "\n",
        "def square(numbers):\n",
        "    for n in numbers:\n",
        "        yield n * n\n",
        "\n",
        "for result in square(numbers()):\n",
        "    print(result)\n"
      ],
      "metadata": {
        "colab": {
          "base_uri": "https://localhost:8080/"
        },
        "id": "3GDrQucOTEQV",
        "outputId": "a1e9e2e8-0638-47d0-8f73-7f41f24bce60"
      },
      "execution_count": null,
      "outputs": [
        {
          "output_type": "stream",
          "name": "stdout",
          "text": [
            "0\n",
            "1\n",
            "4\n",
            "9\n",
            "16\n",
            "25\n",
            "36\n",
            "49\n",
            "64\n",
            "81\n"
          ]
        }
      ]
    },
    {
      "cell_type": "markdown",
      "source": [
        "8. What is a lambda function in Python and when is it typically used?\n",
        "*      A lambda function in Python is a concise way to create anonymous functions, also known as lambda\n",
        "expressions.\n",
        "*      Lambda functions are typically used when you need a simple function for a brief period of time and do not want to define a named function. They are often used as arguments to higher-order functions like map(), filter(), and reduce()."
      ],
      "metadata": {
        "id": "x9GVF8niTypt"
      }
    },
    {
      "cell_type": "code",
      "source": [
        "# lambda example\n",
        "list(map(lambda x: x * 2, [1, 2, 3]))"
      ],
      "metadata": {
        "colab": {
          "base_uri": "https://localhost:8080/"
        },
        "id": "-ZX8xbOQVODL",
        "outputId": "7e9a4977-732f-4c22-f652-4f295e6e12f3"
      },
      "execution_count": null,
      "outputs": [
        {
          "output_type": "execute_result",
          "data": {
            "text/plain": [
              "[2, 4, 6]"
            ]
          },
          "metadata": {},
          "execution_count": 3
        }
      ]
    },
    {
      "cell_type": "markdown",
      "source": [
        "9. Explain the purpose and usage of the `map()` function in Python.\n",
        "*     The `map()` function executes a specified function for each item in an `iterable`. The item is sent to the\n",
        "function as a parameter\n",
        "*     The map() function in Python is a built-in function that applies a given function to all the items in an iterable\n",
        "(e.g., a list) and returns an iterable map object (an iterator) of the results.\n",
        " * ** Purpose of map()**:\n",
        "To perform element-wise transformations or operations on an iterable efficiently.\n",
        "To avoid writing verbose loops for simple transformations.\n",
        "To create cleaner and more concise code in conjunction with functions or lambda expressions.\n",
        "   \n",
        " *  **When to Use map():**\n",
        "*      When you need to apply a function to every element in an iterable.\n",
        "*      For simple transformations that can be expressed in a single function or lambda expression.\n"
      ],
      "metadata": {
        "id": "0Ei47EyfVsPh"
      }
    },
    {
      "cell_type": "code",
      "source": [
        "# Convert characters to uppercase\n",
        "result = map(str.upper, 'hello')\n",
        "print(list(result))  # Output: ['H', 'E', 'L', 'L', 'O']\n"
      ],
      "metadata": {
        "colab": {
          "base_uri": "https://localhost:8080/"
        },
        "id": "3wggkIQtXWsp",
        "outputId": "ce0ac190-e1af-4c7f-de1a-f729ae8f5826"
      },
      "execution_count": null,
      "outputs": [
        {
          "output_type": "stream",
          "name": "stdout",
          "text": [
            "['H', 'E', 'L', 'L', 'O']\n"
          ]
        }
      ]
    },
    {
      "cell_type": "markdown",
      "source": [
        "10. What is the difference between `map()`, `reduce()`, and `filter()` functions in Python?\n",
        "*     **map() :**  The map() function in Python is a built-in function that applies a given function to all the items in an iterable\n",
        "(e.g., a list) and returns an iterable map object (an iterator) of the results"
      ],
      "metadata": {
        "id": "vE8AAcAIXaOS"
      }
    },
    {
      "cell_type": "code",
      "source": [
        "#map\n",
        "numbers = [1, 2, 3, 4]\n",
        "result = map(lambda x: x * x, numbers)\n",
        "print(list(result))\n"
      ],
      "metadata": {
        "colab": {
          "base_uri": "https://localhost:8080/"
        },
        "id": "lzupOe1EYT1w",
        "outputId": "45929b0f-8b46-4314-cb34-6669cd3dd10d"
      },
      "execution_count": null,
      "outputs": [
        {
          "output_type": "stream",
          "name": "stdout",
          "text": [
            "[1, 4, 9, 16]\n"
          ]
        }
      ]
    },
    {
      "cell_type": "markdown",
      "source": [],
      "metadata": {
        "id": "YA5KFcDLZqzW"
      }
    },
    {
      "cell_type": "markdown",
      "source": [
        "*    **Reduce :** Reduces the iterable to a single value."
      ],
      "metadata": {
        "id": "wIlNlDt6Yfiq"
      }
    },
    {
      "cell_type": "code",
      "source": [
        "from functools import reduce\n",
        "\n",
        "numbers = [1, 2, 3, 4]\n",
        "result = reduce(lambda x, y: x * y, numbers)\n",
        "print(result)\n"
      ],
      "metadata": {
        "colab": {
          "base_uri": "https://localhost:8080/"
        },
        "id": "_S3_FtVpZGjC",
        "outputId": "aa92767b-7962-4da5-cdec-1ac67818c9d5"
      },
      "execution_count": null,
      "outputs": [
        {
          "output_type": "stream",
          "name": "stdout",
          "text": [
            "24\n"
          ]
        }
      ]
    },
    {
      "cell_type": "markdown",
      "source": [
        "*     **Filter():**  Filters elements from an iterable based on a function that returns True or False."
      ],
      "metadata": {
        "id": "PYkNUI_mZSlz"
      }
    },
    {
      "cell_type": "code",
      "source": [
        "numbers = [1, 2, 3, 4, 5]\n",
        "result = filter(lambda x: x % 2 == 0, numbers)\n",
        "print(list(result))\n"
      ],
      "metadata": {
        "colab": {
          "base_uri": "https://localhost:8080/"
        },
        "id": "GnOJuWAUZjxe",
        "outputId": "83053f3d-eadc-4e21-e2f8-7237f7296f6d"
      },
      "execution_count": null,
      "outputs": [
        {
          "output_type": "stream",
          "name": "stdout",
          "text": [
            "[2, 4]\n"
          ]
        }
      ]
    },
    {
      "cell_type": "markdown",
      "source": [
        "11. Using pen & Paper write the internal mechanism for sum operation using  reduce function on this given\n",
        "list:[47,11,42,13];\n",
        "![cd0614c1-28df-43f8-a432-f997a25870d6.jpg](data:image/jpeg;base64,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)"
      ],
      "metadata": {
        "id": "iF9nGRQyZsWK"
      }
    },
    {
      "cell_type": "markdown",
      "source": [
        "#    ------ PRACTICAL QUESTION ----"
      ],
      "metadata": {
        "id": "E96sLDRWeebK"
      }
    },
    {
      "cell_type": "markdown",
      "source": [
        "1. Write a Python function that takes a list of numbers as input and returns the sum of all even numbers in\n",
        "the list"
      ],
      "metadata": {
        "id": "xgG_fbG0e8we"
      }
    },
    {
      "cell_type": "code",
      "source": [
        "def sum_of_even_numbers(numbers):\n",
        "    return sum(num for num in numbers if num % 2 == 0)\n",
        "numbers = [1, 2, 3, 4, 5, 6]\n",
        "result = sum_of_even_numbers(numbers)\n",
        "print(result)\n"
      ],
      "metadata": {
        "colab": {
          "base_uri": "https://localhost:8080/"
        },
        "id": "F9QMFqlCe-Ky",
        "outputId": "69b54c5f-69b5-4f31-8bd2-ae0af2d0eab5"
      },
      "execution_count": null,
      "outputs": [
        {
          "output_type": "stream",
          "name": "stdout",
          "text": [
            "12\n"
          ]
        }
      ]
    },
    {
      "cell_type": "markdown",
      "source": [
        "2. Create a Python function that accepts a string and returns the reverse of that string.\n"
      ],
      "metadata": {
        "id": "NwT9oOB5fvqx"
      }
    },
    {
      "cell_type": "code",
      "source": [
        "def reverse_string(s):\n",
        "\n",
        "    return s[::-1]\n",
        "text = \"hello\"\n",
        "reversed_text = reverse_string(text)\n",
        "reversed_text\n"
      ],
      "metadata": {
        "colab": {
          "base_uri": "https://localhost:8080/",
          "height": 35
        },
        "id": "dg0E4MrIfzcU",
        "outputId": "60825724-aca8-4318-9ee3-53a233d23b26"
      },
      "execution_count": null,
      "outputs": [
        {
          "output_type": "execute_result",
          "data": {
            "text/plain": [
              "'olleh'"
            ],
            "application/vnd.google.colaboratory.intrinsic+json": {
              "type": "string"
            }
          },
          "metadata": {},
          "execution_count": 13
        }
      ]
    },
    {
      "cell_type": "markdown",
      "source": [],
      "metadata": {
        "id": "Ye71ufB8gTqq"
      }
    },
    {
      "cell_type": "markdown",
      "source": [
        "3. Implement a Python function that takes a list of integers and returns a new list containing the squares of\n",
        "each number."
      ],
      "metadata": {
        "id": "6X2nUTZmgTtk"
      }
    },
    {
      "cell_type": "code",
      "source": [
        "def square_numbers(numbers):\n",
        "\n",
        "    return [num ** 2 for num in numbers]\n",
        "numbers = [1, 2, 3, 4, 5]\n",
        "squared_numbers = square_numbers(numbers)\n",
        "squared_numbers"
      ],
      "metadata": {
        "colab": {
          "base_uri": "https://localhost:8080/"
        },
        "id": "evpjFMR5gV3m",
        "outputId": "f9f46c6a-edfe-4afc-fbc8-922ec8050eb7"
      },
      "execution_count": null,
      "outputs": [
        {
          "output_type": "execute_result",
          "data": {
            "text/plain": [
              "[1, 4, 9, 16, 25]"
            ]
          },
          "metadata": {},
          "execution_count": 14
        }
      ]
    },
    {
      "cell_type": "markdown",
      "source": [
        "4. Write a Python function that checks if a given number is prime or not from 1 to 200.\n"
      ],
      "metadata": {
        "id": "RrpEfi5Ugwv_"
      }
    },
    {
      "cell_type": "code",
      "source": [
        "def is_prime(num):\n",
        "\n",
        "    if num <= 1:  # Numbers less than or equal to 1 are not prime\n",
        "        return False\n",
        "    for i in range(2, int(num**0.5) + 1):  # Check divisors up to the square root of the number\n",
        "        if num % i == 0:\n",
        "            return False\n",
        "    return True\n",
        "\n",
        "#  Check primes between 1 and 200\n",
        "for number in range(1, 201):\n",
        "    if is_prime(number):\n",
        "        print(f\"{number} is a prime number.\")\n"
      ],
      "metadata": {
        "colab": {
          "base_uri": "https://localhost:8080/"
        },
        "id": "GuymAmd3gxvg",
        "outputId": "fc9ec429-5cb4-45e1-c83e-67ab483477a6"
      },
      "execution_count": null,
      "outputs": [
        {
          "output_type": "stream",
          "name": "stdout",
          "text": [
            "2 is a prime number.\n",
            "3 is a prime number.\n",
            "5 is a prime number.\n",
            "7 is a prime number.\n",
            "11 is a prime number.\n",
            "13 is a prime number.\n",
            "17 is a prime number.\n",
            "19 is a prime number.\n",
            "23 is a prime number.\n",
            "29 is a prime number.\n",
            "31 is a prime number.\n",
            "37 is a prime number.\n",
            "41 is a prime number.\n",
            "43 is a prime number.\n",
            "47 is a prime number.\n",
            "53 is a prime number.\n",
            "59 is a prime number.\n",
            "61 is a prime number.\n",
            "67 is a prime number.\n",
            "71 is a prime number.\n",
            "73 is a prime number.\n",
            "79 is a prime number.\n",
            "83 is a prime number.\n",
            "89 is a prime number.\n",
            "97 is a prime number.\n",
            "101 is a prime number.\n",
            "103 is a prime number.\n",
            "107 is a prime number.\n",
            "109 is a prime number.\n",
            "113 is a prime number.\n",
            "127 is a prime number.\n",
            "131 is a prime number.\n",
            "137 is a prime number.\n",
            "139 is a prime number.\n",
            "149 is a prime number.\n",
            "151 is a prime number.\n",
            "157 is a prime number.\n",
            "163 is a prime number.\n",
            "167 is a prime number.\n",
            "173 is a prime number.\n",
            "179 is a prime number.\n",
            "181 is a prime number.\n",
            "191 is a prime number.\n",
            "193 is a prime number.\n",
            "197 is a prime number.\n",
            "199 is a prime number.\n"
          ]
        }
      ]
    },
    {
      "cell_type": "markdown",
      "source": [
        "5. Create an iterator class in Python that generates the Fibonacci sequence up to a specified number of\n",
        "terms."
      ],
      "metadata": {
        "id": "5M3TOgXPhJXZ"
      }
    },
    {
      "cell_type": "code",
      "source": [
        "def fibonacci_generator():\n",
        "\n",
        "    a, b = 0, 1\n",
        "\n",
        "    while True:\n",
        "\n",
        "        yield a\n",
        "\n",
        "        a, b = b, a + b\n",
        "\n",
        "\n",
        "# Using the generator for Fibonacci sequence\n",
        "\n",
        "fib_gen = fibonacci_generator()\n",
        "\n",
        "for _ in range(10):\n",
        "\n",
        "    print(next(fib_gen))"
      ],
      "metadata": {
        "colab": {
          "base_uri": "https://localhost:8080/"
        },
        "id": "B41oRNCdhRN7",
        "outputId": "059197ad-a4b2-468f-b2e4-a375cfff2253"
      },
      "execution_count": null,
      "outputs": [
        {
          "output_type": "stream",
          "name": "stdout",
          "text": [
            "0\n",
            "1\n",
            "1\n",
            "2\n",
            "3\n",
            "5\n",
            "8\n",
            "13\n",
            "21\n",
            "34\n"
          ]
        }
      ]
    },
    {
      "cell_type": "markdown",
      "source": [
        "6. Write a generator function in Python that yields the powers of 2 up to a given exponent.\n",
        "\n",
        "\n",
        "```\n",
        "# This is formatted as code\n",
        "```\n",
        "\n"
      ],
      "metadata": {
        "id": "HMmQloI2hvGM"
      }
    },
    {
      "cell_type": "code",
      "source": [
        "def power_of_two(exponent):\n",
        "    result = 1\n",
        "    for i in range(exponent + 1):\n",
        "        yield result\n",
        "        result *= 2\n",
        "\n",
        "\n",
        "exponent = 4\n",
        "for power in power_of_two(exponent):\n",
        "    print(power)"
      ],
      "metadata": {
        "colab": {
          "base_uri": "https://localhost:8080/"
        },
        "id": "pkX19WuXh00v",
        "outputId": "9cab9348-c953-4c8b-98b1-25e039f87b11"
      },
      "execution_count": null,
      "outputs": [
        {
          "output_type": "stream",
          "name": "stdout",
          "text": [
            "1\n",
            "2\n",
            "4\n",
            "8\n",
            "16\n"
          ]
        }
      ]
    },
    {
      "cell_type": "markdown",
      "source": [
        "7. Implement a generator function that reads a file line by line and yields each line as a string.\n"
      ],
      "metadata": {
        "id": "NJEQnQ3zk3z8"
      }
    },
    {
      "cell_type": "code",
      "source": [
        "def read_lines(filename):\n",
        "\n",
        "    with open(filename, 'r') as file:\n",
        "        for line in file:\n",
        "            yield line.strip()\n",
        "filename = 'sample.txt'\n",
        "for line in read_lines(filename):\n",
        "    print(line)\n"
      ],
      "metadata": {
        "id": "E4FfW12fnDrD"
      },
      "execution_count": null,
      "outputs": []
    },
    {
      "cell_type": "markdown",
      "source": [
        "8. Use a lambda function in Python to sort a list of tuples based on the second element of each tuple.\n"
      ],
      "metadata": {
        "id": "SWvbbK1WnJKG"
      }
    },
    {
      "cell_type": "code",
      "source": [
        "# List of tuples\n",
        "tuples_list = [(1, 'apple'), (3, 'banana'), (2, 'cherry'), (4, 'date')]\n",
        "\n",
        "# Sorting using lambda function to sort by the second element of each tuple\n",
        "sorted_list = sorted(tuples_list, key=lambda x: x[1])\n",
        "\n",
        "print(sorted_list)\n"
      ],
      "metadata": {
        "colab": {
          "base_uri": "https://localhost:8080/"
        },
        "id": "mbnRc-VWnNx3",
        "outputId": "32584114-78b5-4a88-b088-4ec656c3221a"
      },
      "execution_count": null,
      "outputs": [
        {
          "output_type": "stream",
          "name": "stdout",
          "text": [
            "[(1, 'apple'), (3, 'banana'), (2, 'cherry'), (4, 'date')]\n"
          ]
        }
      ]
    },
    {
      "cell_type": "markdown",
      "source": [
        "9. Write a Python program that uses `map()` to convert a list of temperatures from Celsius to Fahrenheit.\n"
      ],
      "metadata": {
        "id": "2fbmDjoAnrxc"
      }
    },
    {
      "cell_type": "code",
      "source": [
        "# List of temperatures in Celsius\n",
        "celsius_temperatures = [0, 20, 30, 40, 100]\n",
        "\n",
        "# Function to convert Celsius to Fahrenheit\n",
        "def celsius_to_fahrenheit(celsius):\n",
        "    return (celsius * 9/5) + 32\n",
        "\n",
        "fahrenheit_temperatures = map(celsius_to_fahrenheit, celsius_temperatures)\n",
        "\n",
        "fahrenheit_temperatures_list = list(fahrenheit_temperatures)\n",
        "print(fahrenheit_temperatures_list)\n"
      ],
      "metadata": {
        "colab": {
          "base_uri": "https://localhost:8080/"
        },
        "id": "m3lrQiTOnvDg",
        "outputId": "f6153687-b417-4c79-b190-4a271ada07a9"
      },
      "execution_count": null,
      "outputs": [
        {
          "output_type": "stream",
          "name": "stdout",
          "text": [
            "[32.0, 68.0, 86.0, 104.0, 212.0]\n"
          ]
        }
      ]
    },
    {
      "cell_type": "markdown",
      "source": [
        "10. Create a Python program that uses `filter()` to remove all the vowels from a given string.\n"
      ],
      "metadata": {
        "id": "701q-b7Ln92h"
      }
    },
    {
      "cell_type": "code",
      "source": [
        "# Function to check if a character is not a vowel\n",
        "def vowel(char):\n",
        "    vowels = 'aeiouAEIOU'\n",
        "    return char not in vowels\n",
        "\n",
        "# Input string\n",
        "input_string = \"Hello, World!\"\n",
        "\n",
        "# Using filter() to remove vowels\n",
        "filtered_string = ''.join(filter(vowel, input_string))\n",
        "\n",
        "filtered_string\n"
      ],
      "metadata": {
        "colab": {
          "base_uri": "https://localhost:8080/",
          "height": 35
        },
        "id": "rM8bNpHKoCF5",
        "outputId": "2d749d77-fac1-4524-fe43-e43107276786"
      },
      "execution_count": null,
      "outputs": [
        {
          "output_type": "execute_result",
          "data": {
            "text/plain": [
              "'Hll, Wrld!'"
            ],
            "application/vnd.google.colaboratory.intrinsic+json": {
              "type": "string"
            }
          },
          "metadata": {},
          "execution_count": 31
        }
      ]
    },
    {
      "cell_type": "markdown",
      "source": [],
      "metadata": {
        "id": "xI9CVBQNpsS3"
      }
    },
    {
      "cell_type": "code",
      "source": [
        "# 11 no question\n",
        "# Example input: a list of orders where each order is represented by [order_number, price_per_item, quantity]\n",
        "orders = [\n",
        "    [34587, 40.95, 4],\n",
        "    [98762, 56.80, 5],\n",
        "    [77226, 32.95, 3],\n",
        "    [88112, 24.99, 3],\n",
        "]\n",
        "\n",
        "# Function to calculate the order total\n",
        "def calculate_order(order):\n",
        "    order_number, price, quantity = order\n",
        "    total = price * quantity\n",
        "    if total < 100.00:\n",
        "        total += 10  # Add 10  if total is smaller than 100\n",
        "    return (order_number, total)\n",
        "result = list(map(lambda order: calculate_order(order), orders))\n",
        "\n",
        "print(result)\n"
      ],
      "metadata": {
        "colab": {
          "base_uri": "https://localhost:8080/"
        },
        "id": "txV9p7fTqTkG",
        "outputId": "0a41ff1b-2293-47b7-abd5-3a92bb161011"
      },
      "execution_count": 3,
      "outputs": [
        {
          "output_type": "stream",
          "name": "stdout",
          "text": [
            "[(34587, 163.8), (98762, 284.0), (77226, 108.85000000000001), (88112, 84.97)]\n"
          ]
        }
      ]
    }
  ]
}